{
 "cells": [
  {
   "cell_type": "code",
   "execution_count": null,
   "metadata": {},
   "outputs": [],
   "source": [
    "import pandas as pd\n",
    "import numpy as np\n",
    "import matplotlib.pyplot as plt\n",
    "import sklearn\n",
    "from sklearn.preprocessing import *\n",
    "from sklearn.model_selection import train_test_split\n",
    "from sklearn.metrics import *\n",
    "from sklearn.utils import all_estimators\n",
    "from sklearn.metrics import accuracy_score, precision_score, recall_score, f1_score, roc_auc_score, r2_score\n",
    "from sklearn.model_selection import GridSearchCV\n",
    "\n",
    "%matplotlib inline"
   ]
  },
  {
   "attachments": {},
   "cell_type": "markdown",
   "metadata": {},
   "source": [
    "1. Modify the dataset to pass into any type of machine learning models.\n"
   ]
  },
  {
   "cell_type": "code",
   "execution_count": null,
   "metadata": {},
   "outputs": [],
   "source": [
    "datasetTrain = \"../data/FinalNew.csv\"\n",
    "df = pd.read_csv(datasetTrain)\n",
    "df.head()"
   ]
  },
  {
   "cell_type": "code",
   "execution_count": null,
   "metadata": {},
   "outputs": [],
   "source": [
    "cat_cols = [col for col in df.columns if df[col].dtype == 'object']\n",
    "num_cols = [col for col in df.columns if df[col].dtype != 'object']"
   ]
  },
  {
   "cell_type": "code",
   "execution_count": null,
   "metadata": {},
   "outputs": [],
   "source": [
    "le = LabelEncoder()\n",
    "for col in cat_cols:\n",
    "    df[col] = le.fit_transform(df[col])\n",
    "    "
   ]
  },
  {
   "cell_type": "code",
   "execution_count": null,
   "metadata": {},
   "outputs": [],
   "source": [
    "df.rename(columns = {'ORDER_AMOUNT': 'target'}, inplace = True)"
   ]
  },
  {
   "cell_type": "code",
   "execution_count": null,
   "metadata": {},
   "outputs": [],
   "source": [
    "df.dropna(inplace = True)\n",
    "\n",
    "X = df.drop(columns = ['target'])\n",
    "y = df['target']\n",
    "X_train, X_test, y_train, y_test = train_test_split(X, y, test_size = 0.2, random_state = 355)"
   ]
  },
  {
   "cell_type": "markdown",
   "metadata": {},
   "source": [
    "2. Try different machine learning models like -\n",
    "    - Linear Regression\n",
    "    - Support Vector Machine\n",
    "    - Decision Tree\n",
    "    - Random Forest\n",
    "    - AdaBoost\n",
    "    - Xgboost etc.\n"
   ]
  },
  {
   "cell_type": "code",
   "execution_count": null,
   "metadata": {},
   "outputs": [],
   "source": [
    "regressor_models = []\n",
    "for name, RegressorClass in all_estimators(type_filter='regressor'):\n",
    "    try:\n",
    "        regressor = RegressorClass()\n",
    "        regressor_models.append((name, regressor))\n",
    "    except Exception as e:\n",
    "        pass\n",
    "\n",
    "regressor_models.pop(33)\n",
    "regressor_models.pop(46)"
   ]
  },
  {
   "attachments": {},
   "cell_type": "markdown",
   "metadata": {},
   "source": [
    "3. Perform Regression model evaluations like MSE, RMSE, R-Square etc.\n"
   ]
  },
  {
   "cell_type": "code",
   "execution_count": null,
   "metadata": {},
   "outputs": [],
   "source": [
    "def eval(model, X_train, y_train, X_test, y_test):\n",
    "    model.fit(X_train, y_train)\n",
    "    y_pred = model.predict(X_test)\n",
    "    mse = mean_squared_error(y_test, y_pred)\n",
    "    rmse = np.sqrt(mse)\n",
    "    r2 = r2_score(y_test, y_pred)\n",
    "    return model.__class__.__name__, model, mse, rmse, r2"
   ]
  },
  {
   "cell_type": "code",
   "execution_count": null,
   "metadata": {},
   "outputs": [],
   "source": [
    "df_compare = pd.DataFrame(columns = ['Regressor', 'Model', 'MSE', 'RMSE', 'R2'])\n",
    "best_model = pd.DataFrame(columns = ['Regressor', 'Model', 'MSE', 'RMSE', 'R2'])"
   ]
  },
  {
   "cell_type": "code",
   "execution_count": null,
   "metadata": {},
   "outputs": [],
   "source": [
    "for model in regressor_models:\n",
    "    try:\n",
    "        ans = eval(model[1], X_train, y_train, X_test, y_test)\n",
    "        df_compare = pd.concat([df_compare, pd.DataFrame([[ans[1], ans[0], ans[2], ans[3], ans[4]]], columns = ['Regressor', 'Model', 'MSE', 'RMSE', 'R2'])])\n",
    "    except Exception as e:\n",
    "        pass"
   ]
  },
  {
   "attachments": {},
   "cell_type": "markdown",
   "metadata": {},
   "source": [
    "4. Compare the accuracies of all the models\n"
   ]
  },
  {
   "cell_type": "code",
   "execution_count": null,
   "metadata": {},
   "outputs": [],
   "source": [
    "df_compare"
   ]
  },
  {
   "cell_type": "code",
   "execution_count": null,
   "metadata": {},
   "outputs": [],
   "source": [
    "df_compare = df_compare.sort_values(by = ['MSE'], ascending = True)\n",
    "best_model = pd.concat([best_model, df_compare.sort_values(by = ['MSE'], ascending = True).head(5)])\n",
    "df_compare.head()"
   ]
  },
  {
   "cell_type": "code",
   "execution_count": null,
   "metadata": {},
   "outputs": [],
   "source": [
    "sns.barplot(x = 'Model', y = 'MSE', data = df_compare, palette = 'magma')\n",
    "plt.xticks(rotation = 90)\n",
    "plt.xlabel('Model')\n",
    "plt.ylabel('MSE')\n",
    "plt.title('MSE of all models')\n",
    "plt.show()"
   ]
  },
  {
   "cell_type": "code",
   "execution_count": null,
   "metadata": {},
   "outputs": [],
   "source": [
    "df_compare = df_compare.sort_values(by = ['RMSE'], ascending = True)\n",
    "best_model = pd.concat([best_model, df_compare.sort_values(by = ['MSE'], ascending = True).head(5)])\n",
    "df_compare.head()"
   ]
  },
  {
   "cell_type": "code",
   "execution_count": null,
   "metadata": {},
   "outputs": [],
   "source": [
    "sns.barplot(x = 'Model', y = 'RMSE', data = df_compare, palette = 'magma')\n",
    "plt.xticks(rotation = 90)\n",
    "plt.xlabel('Model')\n",
    "plt.ylabel('RMSE')\n",
    "plt.title('RMSE of all models')\n",
    "plt.show()"
   ]
  },
  {
   "cell_type": "code",
   "execution_count": null,
   "metadata": {},
   "outputs": [],
   "source": [
    "df_compare = df_compare[df_compare['R2'] > 0]\n",
    "df_compare = df_compare.sort_values(by = ['R2'], ascending = False)\n",
    "best_model = pd.concat([best_model, df_compare.sort_values(by = ['MSE'], ascending = True).head(5)])\n",
    "df_compare.head()"
   ]
  },
  {
   "cell_type": "code",
   "execution_count": null,
   "metadata": {},
   "outputs": [],
   "source": [
    "sns.barplot(x = 'Model', y = 'R2', data = df_compare, palette = 'magma')\n",
    "plt.xticks(rotation = 90)\n",
    "plt.xlabel('Model')\n",
    "plt.ylabel('R2')\n",
    "plt.title('R2 of all models')\n",
    "plt.show()"
   ]
  },
  {
   "attachments": {},
   "cell_type": "markdown",
   "metadata": {},
   "source": [
    "5. Select the best possible model"
   ]
  },
  {
   "cell_type": "code",
   "execution_count": null,
   "metadata": {},
   "outputs": [],
   "source": [
    "best_model = best_model.drop_duplicates()\n",
    "best_model"
   ]
  },
  {
   "cell_type": "code",
   "execution_count": null,
   "metadata": {},
   "outputs": [],
   "source": [
    "sns.barplot(x = 'Model', y = 'MSE', data = best_model, palette = 'magma')\n",
    "plt.xticks(rotation = 90)\n",
    "plt.xlabel('Model')\n",
    "plt.ylabel('MSE')\n",
    "plt.title('MSE of Best Model')\n",
    "plt.show()"
   ]
  },
  {
   "cell_type": "code",
   "execution_count": null,
   "metadata": {},
   "outputs": [],
   "source": [
    "sns.barplot(x = 'Model', y = 'RMSE', data = best_model, palette = 'magma')\n",
    "plt.xticks(rotation = 90)\n",
    "plt.xlabel('Model')\n",
    "plt.ylabel('RMSE')\n",
    "plt.title('RSE of Best Model')\n",
    "plt.show()"
   ]
  },
  {
   "cell_type": "code",
   "execution_count": null,
   "metadata": {},
   "outputs": [],
   "source": [
    "sns.barplot(x = 'Model', y = 'R2', data = best_model, palette = 'magma')\n",
    "plt.xticks(rotation = 90)\n",
    "plt.xlabel('Model')\n",
    "plt.ylabel('R2')\n",
    "plt.title('R2 of Best Model')\n",
    "plt.show()"
   ]
  },
  {
   "cell_type": "code",
   "execution_count": null,
   "metadata": {},
   "outputs": [],
   "source": [
    "bestModel = set()\n",
    "\n",
    "best_model = best_model.sort_values(by = ['MSE'], ascending = True)\n",
    "\n",
    "for index, row in best_model.head(3).iterrows():\n",
    "    bestModel.add(row['Regressor'])\n",
    "\n",
    "best_model = best_model.sort_values(by = ['RMSE'], ascending = True)\n",
    "\n",
    "for index, row in best_model.head(3).iterrows():\n",
    "    bestModel.add(row['Regressor'])\n",
    "\n",
    "best_model = best_model.sort_values(by = ['R2'], ascending = False)\n",
    "\n",
    "for index, row in best_model.head(3).iterrows():\n",
    "    bestModel.add(row['Regressor'])\n"
   ]
  },
  {
   "cell_type": "markdown",
   "metadata": {},
   "source": [
    "6. Perform Hyperparameter tuning, select best hyperparameters by using appropriate algorithms Come up with the best possible model accuracy."
   ]
  },
  {
   "cell_type": "code",
   "execution_count": null,
   "metadata": {},
   "outputs": [],
   "source": [
    "def hyperparam(model, X_train, y_train, X_test, y_test):\n",
    "    grid_search = GridSearchCV(estimator = model, param_grid = {'n_estimators': [100, 200, 300, 400, 500, 600, 700, 800, 900, 1000]}, cv = 5, n_jobs = -1, verbose = 5)\n",
    "    grid_search.fit(X_train, y_train)\n",
    "    print(grid_search.best_params_)\n",
    "    print(grid_search.best_score_)\n",
    "    print(grid_search.best_estimator_)\n",
    "    y_pred = grid_search.predict(X_test)\n",
    "    mse = mean_squared_error(y_test, y_pred)\n",
    "    rmse = np.sqrt(mse)\n",
    "    r2 = r2_score(y_test, y_pred)\n",
    "    print('MSE: ', mse)\n",
    "    print('RMSE: ', rmse)\n",
    "    print('R2: ', r2)\n",
    "    return grid_search.best_estimator_, mse, rmse, r2\n",
    "\n"
   ]
  },
  {
   "cell_type": "code",
   "execution_count": null,
   "metadata": {},
   "outputs": [],
   "source": [
    "for model in bestModel:\n",
    "    try:\n",
    "        print(model)\n",
    "        hyperparam(model, X_train, y_train, X_test, y_test)            \n",
    "    except:\n",
    "        print('Error')"
   ]
  }
 ],
 "metadata": {
  "kernelspec": {
   "display_name": "ML",
   "language": "python",
   "name": "python3"
  },
  "language_info": {
   "codemirror_mode": {
    "name": "ipython",
    "version": 3
   },
   "file_extension": ".py",
   "mimetype": "text/x-python",
   "name": "python",
   "nbconvert_exporter": "python",
   "pygments_lexer": "ipython3",
   "version": "3.9.16"
  },
  "orig_nbformat": 4
 },
 "nbformat": 4,
 "nbformat_minor": 2
}
