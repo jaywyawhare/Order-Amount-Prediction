{
 "cells": [
  {
   "cell_type": "code",
   "execution_count": 1,
   "metadata": {},
   "outputs": [],
   "source": [
    "import pandas as pd"
   ]
  },
  {
   "attachments": {},
   "cell_type": "markdown",
   "metadata": {},
   "source": [
    "1. Use the PRS dataset to create a dataframe\n"
   ]
  },
  {
   "cell_type": "code",
   "execution_count": 2,
   "metadata": {},
   "outputs": [],
   "source": [
    "df = pd.read_csv('../data/Final.csv')"
   ]
  },
  {
   "attachments": {},
   "cell_type": "markdown",
   "metadata": {},
   "source": [
    "2. Check the description of the dataframe"
   ]
  },
  {
   "cell_type": "code",
   "execution_count": 3,
   "metadata": {},
   "outputs": [
    {
     "data": {
      "text/html": [
       "<div>\n",
       "<style scoped>\n",
       "    .dataframe tbody tr th:only-of-type {\n",
       "        vertical-align: middle;\n",
       "    }\n",
       "\n",
       "    .dataframe tbody tr th {\n",
       "        vertical-align: top;\n",
       "    }\n",
       "\n",
       "    .dataframe thead th {\n",
       "        text-align: right;\n",
       "    }\n",
       "</style>\n",
       "<table border=\"1\" class=\"dataframe\">\n",
       "  <thead>\n",
       "    <tr style=\"text-align: right;\">\n",
       "      <th></th>\n",
       "      <th>CUSTOMER_ORDER_ID</th>\n",
       "      <th>SALES_ORG</th>\n",
       "      <th>COMPANY_CODE</th>\n",
       "      <th>ORDER_CREATION_DATE</th>\n",
       "      <th>ORDER_CREATION_TIME</th>\n",
       "      <th>SOLD_TO_PARTY</th>\n",
       "      <th>REQUESTED_DELIVERY_DATE</th>\n",
       "      <th>CREDIT_STATUS</th>\n",
       "      <th>CUSTOMER_NUMBER</th>\n",
       "    </tr>\n",
       "  </thead>\n",
       "  <tbody>\n",
       "    <tr>\n",
       "      <th>count</th>\n",
       "      <td>1.101925e+06</td>\n",
       "      <td>1.101925e+06</td>\n",
       "      <td>1.101925e+06</td>\n",
       "      <td>1.101925e+06</td>\n",
       "      <td>1.101925e+06</td>\n",
       "      <td>1.101925e+06</td>\n",
       "      <td>1.101925e+06</td>\n",
       "      <td>219478.000000</td>\n",
       "      <td>1.101925e+06</td>\n",
       "    </tr>\n",
       "    <tr>\n",
       "      <th>mean</th>\n",
       "      <td>8.763187e+08</td>\n",
       "      <td>3.304891e+03</td>\n",
       "      <td>3.431364e+03</td>\n",
       "      <td>2.022032e+07</td>\n",
       "      <td>1.340316e+05</td>\n",
       "      <td>8.763265e+08</td>\n",
       "      <td>2.022035e+07</td>\n",
       "      <td>74.464771</td>\n",
       "      <td>1.074092e+09</td>\n",
       "    </tr>\n",
       "    <tr>\n",
       "      <th>std</th>\n",
       "      <td>7.088594e+07</td>\n",
       "      <td>6.958920e+02</td>\n",
       "      <td>5.483805e+02</td>\n",
       "      <td>1.426756e+02</td>\n",
       "      <td>6.503618e+04</td>\n",
       "      <td>7.090306e+07</td>\n",
       "      <td>1.751912e+03</td>\n",
       "      <td>14.444210</td>\n",
       "      <td>4.042693e+08</td>\n",
       "    </tr>\n",
       "    <tr>\n",
       "      <th>min</th>\n",
       "      <td>7.534520e+08</td>\n",
       "      <td>2.100000e+03</td>\n",
       "      <td>5.900000e+01</td>\n",
       "      <td>2.022010e+07</td>\n",
       "      <td>0.000000e+00</td>\n",
       "      <td>7.534518e+08</td>\n",
       "      <td>2.019081e+07</td>\n",
       "      <td>52.000000</td>\n",
       "      <td>1.210001e+07</td>\n",
       "    </tr>\n",
       "    <tr>\n",
       "      <th>25%</th>\n",
       "      <td>8.149522e+08</td>\n",
       "      <td>2.702000e+03</td>\n",
       "      <td>3.260000e+03</td>\n",
       "      <td>2.022021e+07</td>\n",
       "      <td>8.170200e+04</td>\n",
       "      <td>8.148366e+08</td>\n",
       "      <td>2.022022e+07</td>\n",
       "      <td>64.000000</td>\n",
       "      <td>1.230006e+09</td>\n",
       "    </tr>\n",
       "    <tr>\n",
       "      <th>50%</th>\n",
       "      <td>8.763963e+08</td>\n",
       "      <td>3.305000e+03</td>\n",
       "      <td>3.660000e+03</td>\n",
       "      <td>2.022032e+07</td>\n",
       "      <td>1.509540e+05</td>\n",
       "      <td>8.763542e+08</td>\n",
       "      <td>2.022033e+07</td>\n",
       "      <td>64.000000</td>\n",
       "      <td>1.230014e+09</td>\n",
       "    </tr>\n",
       "    <tr>\n",
       "      <th>75%</th>\n",
       "      <td>9.376832e+08</td>\n",
       "      <td>3.908000e+03</td>\n",
       "      <td>3.670000e+03</td>\n",
       "      <td>2.022042e+07</td>\n",
       "      <td>1.853580e+05</td>\n",
       "      <td>9.377293e+08</td>\n",
       "      <td>2.022050e+07</td>\n",
       "      <td>93.000000</td>\n",
       "      <td>1.230014e+09</td>\n",
       "    </tr>\n",
       "    <tr>\n",
       "      <th>max</th>\n",
       "      <td>9.990063e+08</td>\n",
       "      <td>4.510000e+03</td>\n",
       "      <td>4.260000e+03</td>\n",
       "      <td>2.022060e+07</td>\n",
       "      <td>2.359590e+05</td>\n",
       "      <td>9.990075e+08</td>\n",
       "      <td>2.202022e+07</td>\n",
       "      <td>93.000000</td>\n",
       "      <td>1.230025e+09</td>\n",
       "    </tr>\n",
       "  </tbody>\n",
       "</table>\n",
       "</div>"
      ],
      "text/plain": [
       "       CUSTOMER_ORDER_ID     SALES_ORG  COMPANY_CODE  ORDER_CREATION_DATE   \n",
       "count       1.101925e+06  1.101925e+06  1.101925e+06         1.101925e+06  \\\n",
       "mean        8.763187e+08  3.304891e+03  3.431364e+03         2.022032e+07   \n",
       "std         7.088594e+07  6.958920e+02  5.483805e+02         1.426756e+02   \n",
       "min         7.534520e+08  2.100000e+03  5.900000e+01         2.022010e+07   \n",
       "25%         8.149522e+08  2.702000e+03  3.260000e+03         2.022021e+07   \n",
       "50%         8.763963e+08  3.305000e+03  3.660000e+03         2.022032e+07   \n",
       "75%         9.376832e+08  3.908000e+03  3.670000e+03         2.022042e+07   \n",
       "max         9.990063e+08  4.510000e+03  4.260000e+03         2.022060e+07   \n",
       "\n",
       "       ORDER_CREATION_TIME  SOLD_TO_PARTY  REQUESTED_DELIVERY_DATE   \n",
       "count         1.101925e+06   1.101925e+06             1.101925e+06  \\\n",
       "mean          1.340316e+05   8.763265e+08             2.022035e+07   \n",
       "std           6.503618e+04   7.090306e+07             1.751912e+03   \n",
       "min           0.000000e+00   7.534518e+08             2.019081e+07   \n",
       "25%           8.170200e+04   8.148366e+08             2.022022e+07   \n",
       "50%           1.509540e+05   8.763542e+08             2.022033e+07   \n",
       "75%           1.853580e+05   9.377293e+08             2.022050e+07   \n",
       "max           2.359590e+05   9.990075e+08             2.202022e+07   \n",
       "\n",
       "       CREDIT_STATUS  CUSTOMER_NUMBER  \n",
       "count  219478.000000     1.101925e+06  \n",
       "mean       74.464771     1.074092e+09  \n",
       "std        14.444210     4.042693e+08  \n",
       "min        52.000000     1.210001e+07  \n",
       "25%        64.000000     1.230006e+09  \n",
       "50%        64.000000     1.230014e+09  \n",
       "75%        93.000000     1.230014e+09  \n",
       "max        93.000000     1.230025e+09  "
      ]
     },
     "execution_count": 3,
     "metadata": {},
     "output_type": "execute_result"
    }
   ],
   "source": [
    "df.describe()"
   ]
  },
  {
   "attachments": {},
   "cell_type": "markdown",
   "metadata": {},
   "source": [
    "3. Check the shape of the dataframe\n"
   ]
  },
  {
   "cell_type": "code",
   "execution_count": 4,
   "metadata": {},
   "outputs": [
    {
     "data": {
      "text/plain": [
       "(1101925, 16)"
      ]
     },
     "execution_count": 4,
     "metadata": {},
     "output_type": "execute_result"
    }
   ],
   "source": [
    "df.shape"
   ]
  },
  {
   "attachments": {},
   "cell_type": "markdown",
   "metadata": {},
   "source": [
    "4. Check the data frame informations"
   ]
  },
  {
   "cell_type": "code",
   "execution_count": 5,
   "metadata": {},
   "outputs": [
    {
     "name": "stdout",
     "output_type": "stream",
     "text": [
      "<class 'pandas.core.frame.DataFrame'>\n",
      "RangeIndex: 1101925 entries, 0 to 1101924\n",
      "Data columns (total 16 columns):\n",
      " #   Column                   Non-Null Count    Dtype  \n",
      "---  ------                   --------------    -----  \n",
      " 0   CUSTOMER_ORDER_ID        1101925 non-null  int64  \n",
      " 1   SALES_ORG                1101925 non-null  int64  \n",
      " 2   DISTRIBUTION_CHANNEL     1101925 non-null  object \n",
      " 3   DIVISION                 1101925 non-null  object \n",
      " 4   RELEASED_CREDIT_VALUE    1101925 non-null  object \n",
      " 5   PURCHASE_ORDER_TYPE      1083233 non-null  object \n",
      " 6   COMPANY_CODE             1101925 non-null  int64  \n",
      " 7   ORDER_CREATION_DATE      1101925 non-null  int64  \n",
      " 8   ORDER_CREATION_TIME      1101925 non-null  int64  \n",
      " 9   CREDIT_CONTROL_AREA      1101925 non-null  object \n",
      " 10  SOLD_TO_PARTY            1101925 non-null  int64  \n",
      " 11  ORDER_AMOUNT             1101925 non-null  object \n",
      " 12  REQUESTED_DELIVERY_DATE  1101925 non-null  int64  \n",
      " 13  ORDER_CURRENCY           1101925 non-null  object \n",
      " 14  CREDIT_STATUS            219478 non-null   float64\n",
      " 15  CUSTOMER_NUMBER          1101925 non-null  int64  \n",
      "dtypes: float64(1), int64(8), object(7)\n",
      "memory usage: 134.5+ MB\n"
     ]
    }
   ],
   "source": [
    "df.info()"
   ]
  },
  {
   "attachments": {},
   "cell_type": "markdown",
   "metadata": {},
   "source": [
    "\n",
    "5. Check for the Null values in the dataframe\n"
   ]
  },
  {
   "cell_type": "code",
   "execution_count": 6,
   "metadata": {},
   "outputs": [
    {
     "data": {
      "text/plain": [
       "CUSTOMER_ORDER_ID               0\n",
       "SALES_ORG                       0\n",
       "DISTRIBUTION_CHANNEL            0\n",
       "DIVISION                        0\n",
       "RELEASED_CREDIT_VALUE           0\n",
       "PURCHASE_ORDER_TYPE         18692\n",
       "COMPANY_CODE                    0\n",
       "ORDER_CREATION_DATE             0\n",
       "ORDER_CREATION_TIME             0\n",
       "CREDIT_CONTROL_AREA             0\n",
       "SOLD_TO_PARTY                   0\n",
       "ORDER_AMOUNT                    0\n",
       "REQUESTED_DELIVERY_DATE         0\n",
       "ORDER_CURRENCY                  0\n",
       "CREDIT_STATUS              882447\n",
       "CUSTOMER_NUMBER                 0\n",
       "dtype: int64"
      ]
     },
     "execution_count": 6,
     "metadata": {},
     "output_type": "execute_result"
    }
   ],
   "source": [
    "df.isnull().sum()"
   ]
  },
  {
   "attachments": {},
   "cell_type": "markdown",
   "metadata": {},
   "source": [
    "6. Replace all the null values with \"NaN\""
   ]
  },
  {
   "cell_type": "code",
   "execution_count": 7,
   "metadata": {},
   "outputs": [],
   "source": [
    "df.fillna('NaN', inplace=True)"
   ]
  },
  {
   "attachments": {},
   "cell_type": "markdown",
   "metadata": {},
   "source": [
    "\n",
    "7. Change the format of date columns - \"ORDER_CREATION_DATE\" to datetime[64] with the format as \"%Y%m%d\"\n"
   ]
  },
  {
   "cell_type": "code",
   "execution_count": 8,
   "metadata": {},
   "outputs": [],
   "source": [
    "df['ORDER_CREATION_DATE'] = pd.to_datetime(df['ORDER_CREATION_DATE'])\n"
   ]
  },
  {
   "attachments": {},
   "cell_type": "markdown",
   "metadata": {},
   "source": [
    "8. Do the same activity for the other date field i.e. \"REQUESTED_DELIVERY_DATE\" to datetime[64] with the format as \"%Y%m%d\""
   ]
  },
  {
   "cell_type": "code",
   "execution_count": 9,
   "metadata": {},
   "outputs": [],
   "source": [
    "df['REQUESTED_DELIVERY_DATE'] = pd.to_datetime(df['REQUESTED_DELIVERY_DATE'])"
   ]
  },
  {
   "attachments": {},
   "cell_type": "markdown",
   "metadata": {},
   "source": [
    "\n",
    "9. Sanity check - Check how many records are having order date greater than the delivery date"
   ]
  },
  {
   "cell_type": "code",
   "execution_count": 10,
   "metadata": {},
   "outputs": [
    {
     "data": {
      "text/plain": [
       "27142"
      ]
     },
     "execution_count": 10,
     "metadata": {},
     "output_type": "execute_result"
    }
   ],
   "source": [
    "#check how many order creation date is after requested delivery date\n",
    "df[df['ORDER_CREATION_DATE'] > df['REQUESTED_DELIVERY_DATE']].shape[0]\n"
   ]
  },
  {
   "attachments": {},
   "cell_type": "markdown",
   "metadata": {},
   "source": [
    "\n",
    "10. Remove those records where order date is greater than the delivery date "
   ]
  },
  {
   "cell_type": "code",
   "execution_count": 11,
   "metadata": {},
   "outputs": [
    {
     "name": "stdout",
     "output_type": "stream",
     "text": [
      "There are order creation date after requested delivery date\n"
     ]
    }
   ],
   "source": [
    "if df[df['ORDER_CREATION_DATE'] > df['REQUESTED_DELIVERY_DATE']].shape[0] == 0:\n",
    "    print('No order creation date is after requested delivery date')\n",
    "else:\n",
    "    print('There are order creation date after requested delivery date')"
   ]
  },
  {
   "cell_type": "code",
   "execution_count": 12,
   "metadata": {},
   "outputs": [
    {
     "data": {
      "text/plain": [
       "(1074783, 16)"
      ]
     },
     "execution_count": 12,
     "metadata": {},
     "output_type": "execute_result"
    }
   ],
   "source": [
    "df = df[df['ORDER_CREATION_DATE'] <= df['REQUESTED_DELIVERY_DATE']]\n",
    "df.shape"
   ]
  },
  {
   "attachments": {},
   "cell_type": "markdown",
   "metadata": {},
   "source": [
    "\n",
    "11. Check the number of records where the “ORDER_AMOUNT” field is having “-” in it."
   ]
  },
  {
   "cell_type": "code",
   "execution_count": 13,
   "metadata": {},
   "outputs": [
    {
     "data": {
      "text/plain": [
       "32"
      ]
     },
     "execution_count": 13,
     "metadata": {},
     "output_type": "execute_result"
    }
   ],
   "source": [
    "# oder amount has - in it\n",
    "df[df['ORDER_AMOUNT'].str.contains('-')].shape[0]"
   ]
  },
  {
   "attachments": {},
   "cell_type": "markdown",
   "metadata": {},
   "source": [
    "\n",
    "12. Replace “-” with “” from the “ORDER_AMOUNT” field. \n"
   ]
  },
  {
   "cell_type": "code",
   "execution_count": 14,
   "metadata": {},
   "outputs": [],
   "source": [
    "df['ORDER_AMOUNT'] = df['ORDER_AMOUNT'].str.replace('-', '')"
   ]
  },
  {
   "attachments": {},
   "cell_type": "markdown",
   "metadata": {},
   "source": [
    "\n",
    "13. Check the number of records where the “ORDER_AMOUNT” field is having “,” in it."
   ]
  },
  {
   "cell_type": "code",
   "execution_count": 15,
   "metadata": {},
   "outputs": [
    {
     "data": {
      "text/plain": [
       "1073406"
      ]
     },
     "execution_count": 15,
     "metadata": {},
     "output_type": "execute_result"
    }
   ],
   "source": [
    "df[df['ORDER_AMOUNT'].str.contains(',')].shape[0]"
   ]
  },
  {
   "attachments": {},
   "cell_type": "markdown",
   "metadata": {},
   "source": [
    "\n",
    "14. Replace “,” with “.” from the “ORDER_AMOUNT” field. "
   ]
  },
  {
   "cell_type": "code",
   "execution_count": 16,
   "metadata": {},
   "outputs": [],
   "source": [
    "df['ORDER_AMOUNT'] = df['ORDER_AMOUNT'].str.replace(',', '.')"
   ]
  },
  {
   "attachments": {},
   "cell_type": "markdown",
   "metadata": {},
   "source": [
    "\n",
    "15. Count the number of records where the order date and the delivery date are same"
   ]
  },
  {
   "cell_type": "code",
   "execution_count": 17,
   "metadata": {},
   "outputs": [
    {
     "data": {
      "text/plain": [
       "100437"
      ]
     },
     "execution_count": 17,
     "metadata": {},
     "output_type": "execute_result"
    }
   ],
   "source": [
    "df[df['ORDER_CREATION_DATE'] == df['REQUESTED_DELIVERY_DATE']].shape[0]"
   ]
  },
  {
   "attachments": {},
   "cell_type": "markdown",
   "metadata": {},
   "source": [
    "\n",
    "16. Count the number of records for each currency type by using the field “'ORDER_CURRENCY'”"
   ]
  },
  {
   "cell_type": "code",
   "execution_count": 18,
   "metadata": {},
   "outputs": [
    {
     "data": {
      "text/plain": [
       "ORDER_CURRENCY\n",
       "USD    622835\n",
       "EUR    253196\n",
       "AUD     64200\n",
       "CAD     55065\n",
       "GBP     22028\n",
       "MYR     13946\n",
       "PLN     11861\n",
       "AED      7852\n",
       "HKD      6198\n",
       "CHF      5259\n",
       "RON      4731\n",
       "SGD      3909\n",
       "CZK      2178\n",
       "HU1      1377\n",
       "NZD        79\n",
       "BHD        32\n",
       "SAR        14\n",
       "QAR        12\n",
       "KWD         7\n",
       "SEK         4\n",
       "Name: count, dtype: int64"
      ]
     },
     "execution_count": 18,
     "metadata": {},
     "output_type": "execute_result"
    }
   ],
   "source": [
    "df['ORDER_CURRENCY'].value_counts()"
   ]
  },
  {
   "attachments": {},
   "cell_type": "markdown",
   "metadata": {},
   "source": [
    "\n",
    "17. Create a new column in the existing dataframe as “'amount_in_usd'” and convert all the non-USD currencies in USD and store them in the same column. "
   ]
  },
  {
   "cell_type": "code",
   "execution_count": 63,
   "metadata": {},
   "outputs": [],
   "source": [
    "def convert_currency(amount, currency):\n",
    "    if currency == 'USD':\n",
    "        return amount\n",
    "    else:\n",
    "        url = 'https://www.google.com/search?q={} +{} +to +usd '.format(amount, currency)\n",
    "        response = requests.get(url)\n",
    "        soup = BeautifulSoup(response.text, 'html.parser')\n",
    "        result = soup.find('div', attrs={'class':'BNeawe iBp4i AP7Wnd'}).text\n",
    "        return result.split(' ')[0]"
   ]
  },
  {
   "cell_type": "code",
   "execution_count": 67,
   "metadata": {},
   "outputs": [],
   "source": [
    "df['amount_in_usd'] = df.apply(lambda x: convert_currency(x['ORDER_AMOUNT'], x['ORDER_CURRENCY']), axis=1)"
   ]
  },
  {
   "attachments": {},
   "cell_type": "markdown",
   "metadata": {},
   "source": [
    "\n",
    "18. Check for values “0” in the “'amount_in_usd” column. "
   ]
  },
  {
   "cell_type": "code",
   "execution_count": null,
   "metadata": {},
   "outputs": [],
   "source": [
    "df[df['amount_in_usd'] == '0'].shape[0]"
   ]
  },
  {
   "attachments": {},
   "cell_type": "markdown",
   "metadata": {},
   "source": [
    "\n",
    "19. Create a new column in the existing dataframe “unique_cust_id” by adding 'CUSTOMER_NUMBER' and 'COMPANY_CODE'"
   ]
  },
  {
   "cell_type": "code",
   "execution_count": null,
   "metadata": {},
   "outputs": [],
   "source": [
    "df['uniue_cust_id'] = df['CUSTOMER_ID'].astype(str) + df['CUSTOMER_NAME'].astype(str)"
   ]
  }
 ],
 "metadata": {
  "kernelspec": {
   "display_name": "base",
   "language": "python",
   "name": "python3"
  },
  "language_info": {
   "codemirror_mode": {
    "name": "ipython",
    "version": 3
   },
   "file_extension": ".py",
   "mimetype": "text/x-python",
   "name": "python",
   "nbconvert_exporter": "python",
   "pygments_lexer": "ipython3",
   "version": "3.9.16"
  },
  "orig_nbformat": 4
 },
 "nbformat": 4,
 "nbformat_minor": 2
}
